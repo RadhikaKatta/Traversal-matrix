{
 "cells": [
  {
   "cell_type": "code",
   "execution_count": 1,
   "id": "7f1420ef-8a54-43dd-aae2-b26025257215",
   "metadata": {},
   "outputs": [
    {
     "name": "stdout",
     "output_type": "stream",
     "text": [
      "1 2 3 4 8 12 16 15 14 13 9 5 \n",
      "6 7 11 10 \n"
     ]
    }
   ],
   "source": [
    "\n",
    "matrix=[[1,2,3,4],[5,6,7,8],[9,10,11,12],[13,14,15,16]]\n",
    "rows=len(matrix)\n",
    "cols=len(matrix[0])\n",
    "top,left=0,0\n",
    "right,bottom=cols-1,rows-1\n",
    "while top<=bottom and left<=right:\n",
    "    for i in range(left,right+1):\n",
    "        print(matrix[top][i],end=' ')\n",
    "    top+=1\n",
    "    for i in range(top,bottom+1):\n",
    "        print(matrix[i][right],end=' ')\n",
    "    right-=1\n",
    "    for i in range(right,left-1,-1):\n",
    "        print(matrix[bottom][i],end=' ')\n",
    "    bottom-=1\n",
    "    for i in range(bottom,top-1,-1):\n",
    "        print(matrix[i][left],end=' ')\n",
    "    left+=1\n",
    "\n",
    "    print()\n",
    "    \n",
    "    \n",
    "\n",
    "    \n",
    "\n"
   ]
  },
  {
   "cell_type": "code",
   "execution_count": null,
   "id": "351f72a7-98ec-4787-be1e-f52e57424567",
   "metadata": {},
   "outputs": [],
   "source": []
  }
 ],
 "metadata": {
  "kernelspec": {
   "display_name": "Python 3 (ipykernel)",
   "language": "python",
   "name": "python3"
  },
  "language_info": {
   "codemirror_mode": {
    "name": "ipython",
    "version": 3
   },
   "file_extension": ".py",
   "mimetype": "text/x-python",
   "name": "python",
   "nbconvert_exporter": "python",
   "pygments_lexer": "ipython3",
   "version": "3.12.7"
  }
 },
 "nbformat": 4,
 "nbformat_minor": 5
}
